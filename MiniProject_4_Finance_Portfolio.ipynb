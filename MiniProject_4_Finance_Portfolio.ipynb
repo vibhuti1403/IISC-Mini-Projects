{
  "cells": [
    {
      "cell_type": "markdown",
      "metadata": {
        "id": "vFGxXJv8tj5d"
      },
      "source": [
        "# Advanced Certification Program in Computational Data Science\n",
        "## A program by IISc and TalentSprint\n",
        "### MiniProject 4: Finance Portfolio"
      ]
    },
    {
      "cell_type": "markdown",
      "metadata": {
        "id": "nqqRjnCqz1-e"
      },
      "source": [
        "## Learning Objectives"
      ]
    },
    {
      "cell_type": "markdown",
      "metadata": {
        "id": "WwqNe-KbmcS9"
      },
      "source": [
        "At the end of the experiment, you will be able to:\n",
        "\n",
        "* build a finance portfolio\n",
        "* optimize and find the maximum return, minimum risk of a portfolio\n",
        "* cluster the asset parameters to group the similar assets\n",
        "* select the optimal portfolio of diversified assets\n"
      ]
    },
    {
      "cell_type": "markdown",
      "metadata": {
        "id": "HyXQmXWENr1i"
      },
      "source": [
        "## Dataset"
      ]
    },
    {
      "cell_type": "markdown",
      "metadata": {
        "id": "B4bMv9WSNuGi"
      },
      "source": [
        "Dataset chosen for this mini project is Dow Jones Industrial Average (DJIA) Index viz., Apple (AAPL), American Express (AXP), Boeing (BA), Caterpillar (CAT), Cisco Systems (CSCO), Chevron (CVX), Walt Disney (DIS), Goldman Sachs (GS), The Home Depot (HD), IBM (IBM), Intel (INTC), Johnson & Johnson (JNJ), JP Morgan Chase (JPM), Coca-Cola (KO), McDonald's (MCD), 3M(MMM), Merck & Co (MRK), Microsoft (MSFT), Nike (NKE), Pfizer (PFE), Procter & Gamble (PG), Travelers (TRV), United Health Group (UNH), United Technologies (UTX), Verizon (V), Verizon (VZ), Walgreens Boots Alliance (WBA), Walmart (WMT), Exxon Mobil (XOM).\n",
        "\n",
        "The data set considered is from April 11, 2014 to April 11, 2019. Fig. 3.4 illustrates a snapshot of the DJIA dataset.\n",
        "\n",
        "![img](https://github.com/PaiViji/PythonFinance-PortfolioOptimization/raw/2bb0ae9f32f44ff66302ea33f53c02e746583a05/Lesson3_HeuristicPortfolioSelection/Lesson3Fig3_4.png)\n",
        "\n"
      ]
    },
    {
      "cell_type": "markdown",
      "metadata": {
        "id": "t6VIOnrmpihg"
      },
      "source": [
        "## Information\n",
        "\n"
      ]
    },
    {
      "cell_type": "markdown",
      "metadata": {
        "id": "q9RGmSXzqeFg"
      },
      "source": [
        "The universe of stocks can truly baffle investors who wish to make the best selection of stocks for their portfolios. It is a daunting task to make a prudent selection of stocks, given the vastness of the choices and the diverse behavioural characteristics of each of these stocks with respect to itself and to one another\n",
        "\n",
        "**Portfolio Return and Risk:**\n",
        "Harry Markowtiz proposed a framework known as Mean-Variance Analysis which won him the 1990 Nobel Prize in Economics. The framework laid the foundation for what is known as the Modern Portfolio Theory, that views the *portfolio return* as the capital gain that can be expected by holding a portfolio and *portfolio risk* as the extent of capital losses that it can suffer possibly due to adverse market movements. Portfolio return and risk were modelled using the mean and variance of the portfolio's fluctuations respectively.\n",
        "\n",
        "**Diversification Index:**\n",
        "A Diversification Index quantifies diversification. There are several diversification indices discussed in the literature. Diversification Ratio proposed and patented by Yves Choueifaty in 2008 [CHO 08, CHO 13], is a diversification index of recent origin, built on the inter-dependence between assets of a portfolio. Diversification Ratio is the ratio of the weighted sum of individual asset volatilities to the portfolio's volatility.\n",
        "\n",
        "**Efficient Frontier:** An efficient frontier is a set of investment portfolios that are expected to provide the highest returns at a given level of risk. A portfolio is said to be efficient if there is no other portfolio that offers higher returns for a lower or equal amount of risk. Where portfolios are located on the efficient frontier depends on the investor’s degree of risk tolerance.\n",
        "\n",
        "**Sharpe Ratio:** The Sharpe ratio was developed by Nobel laureate William F. Sharpe and is used to help investors understand the return of an investment compared to its risk. The ratio is the average return earned in excess of the risk-free rate per unit of volatility or total risk. Volatility is a measure of the price fluctuations of an asset or portfolio."
      ]
    },
    {
      "cell_type": "markdown",
      "metadata": {
        "id": "uMWem-M0qD9A"
      },
      "source": [
        "## Objectives:\n",
        "\n",
        "* How can the investor decide on which combination of assets is the best?\n",
        "* How can diversification be ensured, when the assets belong to different sectors and therefore behave differently under varying market conditions?\n",
        "* How would an investor determine the optimal weights, which will ensure maximum return risk for the portfolio invested in ?\n",
        "* How would an investor know how much to invest in each one of the assets in the portfolio ?"
      ]
    },
    {
      "cell_type": "code",
      "execution_count": null,
      "metadata": {
        "cellView": "form",
        "id": "octTr7Dz4_rH"
      },
      "outputs": [],
      "source": [
        "#@title Download the dataset\n",
        "!wget -qq https://cdn.iisc.talentsprint.com/CDS/MiniProjects/DJIA_Apr112014_Apr112019.csv"
      ]
    },
    {
      "cell_type": "markdown",
      "metadata": {
        "id": "YRIzMfgjwcAp"
      },
      "source": [
        "### Import required Packages"
      ]
    },
    {
      "cell_type": "code",
      "execution_count": null,
      "metadata": {
        "id": "uSfeKXD4UbLp"
      },
      "outputs": [],
      "source": [
        "import numpy as np\n",
        "import pandas as pd\n",
        "import datetime\n",
        "import matplotlib.pyplot as plt\n",
        "import seaborn as sns\n",
        "from sklearn.cluster import KMeans"
      ]
    },
    {
      "cell_type": "markdown",
      "metadata": {
        "id": "ySJn1hVNtgCc"
      },
      "source": [
        "### Data Preparation"
      ]
    },
    {
      "cell_type": "code",
      "execution_count": null,
      "metadata": {
        "id": "eiMf96D75q6G"
      },
      "outputs": [],
      "source": [
        "#input stock dataset\n",
        "StockFileName = 'DJIA_Apr112014_Apr112019.csv'\n",
        "\n",
        "#read stock prices\n",
        "df = pd.read_csv(StockFileName)\n",
        "print(df.shape)\n",
        "df.head()"
      ]
    },
    {
      "cell_type": "code",
      "execution_count": null,
      "metadata": {
        "id": "pVlcqni-nxRv"
      },
      "outputs": [],
      "source": [
        "# below subset is selected based on k-means\n",
        "#df = df[['BA','IBM','CAT','AAPL']]"
      ]
    },
    {
      "cell_type": "markdown",
      "metadata": {
        "id": "pG3eFpjW-TeW"
      },
      "source": [
        "#### Data Summarization\n",
        "\n",
        "* Remove Date column and summarize the data"
      ]
    },
    {
      "cell_type": "code",
      "execution_count": null,
      "metadata": {
        "id": "07XeEuDWbJ62"
      },
      "outputs": [],
      "source": [
        "Rows = len(df)\n",
        "Columns = len(df.columns[1:]) # excluding date\n",
        "\n",
        "# extract asset labels\n",
        "assetLabels = df.columns[1:Columns+1].tolist()\n",
        "print('portfolio asset labels:\\n', assetLabels)\n",
        "\n",
        "# extract stock prices excluding header and trading dates\n",
        "dfStockPrices = df.iloc[:, 1:]\n",
        "\n",
        "# store stock prices as an array\n",
        "arStockPrices = np.asarray(dfStockPrices)\n",
        "rows, cols= arStockPrices.shape"
      ]
    },
    {
      "cell_type": "markdown",
      "metadata": {
        "id": "3ZTictp3-qNM"
      },
      "source": [
        "#### Compute the stock returns\n",
        "\n",
        "* Compute the mean of returns and covariance of returns"
      ]
    },
    {
      "cell_type": "code",
      "execution_count": null,
      "metadata": {
        "id": "aDqTaY0V6mJk"
      },
      "outputs": [],
      "source": [
        "# function to compute stock returns\n",
        "def StockReturnsComputing(StockPrice, Rows, Columns):\n",
        "    StockReturn = np.zeros([Rows-1, Columns])\n",
        "    for j in range(Columns):  # j: Assets\n",
        "        for i in range(Rows-1):     #i: Daily Prices\n",
        "            StockReturn[i,j]=((StockPrice[i+1, j]-StockPrice[i,j])/StockPrice[i,j])\n",
        "    return StockReturn\n",
        "\n",
        "# compute asset returns\n",
        "arReturns = StockReturnsComputing(arStockPrices, Rows, Columns)\n",
        "\n",
        "# Alternate code\n",
        "#arReturns = pd.DataFrame(arStockPrices).pct_change().dropna().values\n",
        "print('k-portfolio 1 returns:\\n', arReturns)"
      ]
    },
    {
      "cell_type": "code",
      "execution_count": null,
      "metadata": {
        "id": "839ClyUvcxXK"
      },
      "outputs": [],
      "source": [
        "#compute mean returns and variance covariance matrix of returns\n",
        "meanReturns = np.mean(arReturns, axis = 0)\n",
        "print('Mean returns of k-portfolio 1:\\n', meanReturns)\n",
        "covReturns = np.cov(arReturns, rowvar=False)\n",
        "print('\\nVariance-Covariance matrix of returns of k-portfolio 1: ')\n",
        "print('Size  ', covReturns.shape)"
      ]
    },
    {
      "cell_type": "markdown",
      "metadata": {
        "id": "f_E1QZYmStF7"
      },
      "source": [
        "### Portfolio Return and Portfolio Risk\n",
        "\n",
        "* Apply equal weighted portfolio construction method to portfolio\n",
        "* Obtain the annualized risk (%) and the expected annual return (%) of the portfolio"
      ]
    },
    {
      "cell_type": "markdown",
      "metadata": {
        "id": "tvYoynSOAb6K"
      },
      "source": [
        "\n",
        "\n",
        "Let P be a portfolio comprising assets $A_1, A_2,...A_N$ with weights $W_1, W_2,...W_N$ and $r_1, r_2, ...r_N$ as the asset returns. The portfolio return r determined by a weighted summation of its individual asset returns is given by,\n",
        " $$r = W_1 . r_1 + W_2 . r_2 + .. W_N . r_N = \\sum_{i=1}^N W_i . r_i $$\n",
        "\n",
        "The annualized portfolio return assuming that the number of trading days in a year were $T_y$ ( for example, 261 out of 365 days in a year), is given by,\n",
        "\n",
        "$$r_{Ann} = \\Bigg( \\sum_{i=1}^N W_i . r_i \\Bigg) . T_y$$\n",
        "\n",
        "Portfolio risk is the standard deviation of its returns and is given by,\n",
        "\n",
        "$$ \\sigma = \\sqrt{\\sum_i \\sum_j W_i . W_j . \\sigma_{ij}}$$\n",
        "\n",
        "\n",
        "where $\\sigma_{ij}$ is the covariance of returns between assets i and j of the portfolio, also referred to as the variance-covariance matrix of returns. Standard deviation is a prominent measure of dispersion of data borrowed from Statistics and describes the deviation or spread of the data from its mean. In the case of portfolios, standard deviation of its returns, which is its risk, helps to measure the consistency of the returns. The annualized portfolio risk in percentage,  $\\sigma_{Ann}$ is given by,\n",
        "\n",
        "$$ \\sigma_{Ann} = \\sqrt{ \\Bigg(\\sum_i \\sum_j W_i . W_j . \\sigma_{ij} \\Bigg) . T_y}$$\n",
        "\n",
        "where $T_y$ is the number of trading days in a year.\n",
        "\n"
      ]
    },
    {
      "cell_type": "code",
      "execution_count": null,
      "metadata": {
        "id": "M0CKAqyXvknD"
      },
      "outputs": [],
      "source": [
        "#equal weighted portfolio construction: Annualized risk and\n",
        "#expected annualized portfolio return\n",
        "#trading days = 251\n",
        "PortfolioSize = Columns\n",
        "EqualWeightVector = np.ones((1,PortfolioSize))*(1.0/PortfolioSize)\n",
        "EqWgtPortfolioRisk = np.sqrt(np.matmul((np.matmul(EqualWeightVector,covReturns)), \\\n",
        "                     np.transpose(EqualWeightVector)))\n",
        "EqWgtAnnPortfolioRisk = EqWgtPortfolioRisk*np.sqrt(251)*100\n",
        "#print(EqualWeightVector.shape, np.transpose(meanReturns).shape)\n",
        "EqWgtPortfolioReturn = np.matmul(EqualWeightVector, np.transpose(meanReturns))\n",
        "EqWgtAnnPortfolioReturn = 251*EqWgtPortfolioReturn * 100\n",
        "\n",
        "print(\"Annualized Portfolio Risk :  %4.2f\" % EqWgtAnnPortfolioRisk, \"%\")\n",
        "print(\"\\nAnnualized Expected Portfolio Return:  %4.2f\" %  EqWgtAnnPortfolioReturn,\"%\")"
      ]
    },
    {
      "cell_type": "markdown",
      "metadata": {
        "id": "zXAUSY0C23XE"
      },
      "source": [
        "### Cluster the Assets using K-Means\n",
        "\n",
        "* Prepare the data for K-Means by concatenating mean returns and covariance returns\n",
        "\n",
        "* Find the suitable k parameter and fit the model\n",
        "\n",
        "* Label the nearest assets in clusters"
      ]
    },
    {
      "cell_type": "code",
      "execution_count": null,
      "metadata": {
        "id": "PqTbiHYNpMoA"
      },
      "outputs": [],
      "source": [
        "#prepare asset parameters for k-means clustering\n",
        "#reshape for concatenation\n",
        "meanReturns1 = meanReturns.reshape(len(meanReturns),1)\n",
        "assetParameters = np.concatenate([meanReturns1, covReturns], axis = 1)\n",
        "print('Size of the asset parameters for clustering:\\n', assetParameters.shape)"
      ]
    },
    {
      "cell_type": "code",
      "execution_count": null,
      "metadata": {
        "id": "DecG7hhF_vy1"
      },
      "outputs": [],
      "source": [
        "assetParameters"
      ]
    },
    {
      "cell_type": "code",
      "execution_count": null,
      "metadata": {
        "id": "4rn1Ej8-pTe6"
      },
      "outputs": [],
      "source": [
        "#kmeans clustering of assets using the characteristic vector of\n",
        "#mean return and variance-covariance vector of returns\n",
        "\n",
        "assetsCluster= KMeans(algorithm='auto',  max_iter=600, n_clusters=4)\n",
        "print('Clustering of assets completed!')\n",
        "assetsCluster.fit(assetParameters)\n",
        "centroids = assetsCluster.cluster_centers_\n",
        "labels = assetsCluster.labels_\n",
        "\n",
        "print('Centroids:\\n', centroids)\n",
        "print('Labels:\\n', labels)"
      ]
    },
    {
      "cell_type": "code",
      "execution_count": null,
      "metadata": {
        "id": "ry2F8mKvpmcL"
      },
      "outputs": [],
      "source": [
        "#fixing asset labels to cluster points\n",
        "print('Stocks in each of the clusters:\\n',)\n",
        "assets = np.array(assetLabels)\n",
        "for i in range(len(set(labels))):\n",
        "    print('Cluster', i+1)\n",
        "    clt  = np.where(labels == i)\n",
        "    assetsCluster = assets[clt]\n",
        "    print(assetsCluster)"
      ]
    },
    {
      "cell_type": "code",
      "execution_count": null,
      "metadata": {
        "id": "3RzAcralC_41"
      },
      "outputs": [],
      "source": [
        "for i,j in zip(meanReturns1,df.columns[1:]):\n",
        "  print(i,j)"
      ]
    },
    {
      "cell_type": "markdown",
      "metadata": {
        "id": "K5krQfoW_4ih"
      },
      "source": [
        "### Diversification Index\n",
        "\n",
        "* Compute the Diversification Ratio of the Equal Weighted Portfolio\n",
        "\n",
        "Let N be the number of assets in the portfolio spanning different asset classes or belonging to a specific class. Let $(\\bar{w}=(w_1,w_2,...w_N) )$ be the weights or the proportion of capital to be invested in individual assets in the portfolio and $\\bar{w}'$ its transpose. Let $(\\bar{\\sigma}=(\\sigma_1,\\sigma_2,...\\sigma_N))$ be the standard deviations of returns on the assets and V, the variance-covariance matrix of returns on the assets. The Diversification Ratio of a portfolio is given as follows:\n",
        "\n",
        "$$ \\Bigg( \\frac{\\bar\\sigma . \\bar w'}{\\sqrt{\\bar w . V . \\bar w'}}\\Bigg)$$\n",
        "\n"
      ]
    },
    {
      "cell_type": "code",
      "execution_count": null,
      "metadata": {
        "id": "BaoYAlkg1v0F"
      },
      "outputs": [],
      "source": [
        "# Equal weighted portfolio: Diversification Ratio\n",
        "EqWgtPortfolioAssetStdDev = np.sqrt(np.diagonal(covReturns))\n",
        "EqWgtPortfolioDivRatio = np.sum(np.multiply(EqWgtPortfolioAssetStdDev, EqualWeightVector)) / EqWgtPortfolioRisk\n",
        "print(\"Equal Weighted Portfolio:Diversification Ratio  %4.2f\" % EqWgtPortfolioDivRatio)"
      ]
    },
    {
      "cell_type": "markdown",
      "metadata": {
        "id": "ixBhZO5g7S0a"
      },
      "source": [
        "**Summary:**\n",
        "\n",
        "* Equal Weighted Portfolio of 29 assests:Diversification Ratio  1.57 approx\n",
        "\n",
        "* Equal Weighted Portfolio for 4 assets:Diversification Ratio  1.32\n",
        "\n",
        "Diversification changes if assets changes\n"
      ]
    },
    {
      "cell_type": "markdown",
      "metadata": {
        "id": "3mpuCXI__uhQ"
      },
      "source": [
        "### Inverse Volatility Weighted Portfolio\n",
        "\n",
        "* Apply inverse volatility weighted portfolio construction method for the DJIA portfolio\n",
        "* Compute Inverse volatility weighted portfolio annual risk\n",
        "* Compute Inverse volatility weighted portfolio annual return\n",
        "* Compute the Diversification Ratio of the Inverse Volatility Weighted Portfolio\n",
        "\n",
        "An inverse volatility weighted portfolio is one in which highly volatile assets are allotted smaller weights and low volatile assets are allotted larger weights. Thus, the weights of the individual assets in the portfolio are proportional to the reciprocals of their individual volatilities.\n",
        "The weights are given by,\n",
        "\n",
        "$$W_i = \\frac{\\frac{1}{\\sigma_i}}{\\sum_j \\frac{1}{\\sigma_j}} $$"
      ]
    },
    {
      "cell_type": "code",
      "execution_count": null,
      "metadata": {
        "id": "DpErUCIc_UJw"
      },
      "outputs": [],
      "source": [
        "#Inverse volatility weighted portfolio construction: Annualized risk and\n",
        "#Expected annualized portfolio return\n",
        "#Trading days = 251\n",
        "InvVolWeightAssets_Risk = np.sqrt(np.diagonal(covReturns))\n",
        "InvVolWeightAssets_ReciprocalRisk = 1.0/InvVolWeightAssets_Risk\n",
        "InvVolWeightAssets_ReciprocalRisk_Sum = np.sum(InvVolWeightAssets_ReciprocalRisk)\n",
        "InvVolWeightAssets_Weights = InvVolWeightAssets_ReciprocalRisk / InvVolWeightAssets_ReciprocalRisk_Sum\n",
        "InvVolWeightPortfolio_Risk = np.sqrt(np.matmul((np.matmul(InvVolWeightAssets_Weights,\n",
        "                             covReturns)), np.transpose(InvVolWeightAssets_Weights)))\n",
        "\n",
        "#annualized risk and return\n",
        "InvVolWeightPortfolio_AnnRisk = np.sqrt(251)* InvVolWeightPortfolio_Risk *100\n",
        "InvVolWeightPortfolio_AnnReturn = 251* np.matmul(InvVolWeightAssets_Weights,np.transpose(meanReturns)) *100\n",
        "\n",
        "print(\"Annualized Portfolio Risk: %4.2f\" % InvVolWeightPortfolio_AnnRisk,\"%\\n\")\n",
        "print(\"Annualized Expected Portfolio Return: %4.2f\" % InvVolWeightPortfolio_AnnReturn,\"%\")"
      ]
    },
    {
      "cell_type": "markdown",
      "metadata": {
        "id": "dJIIfXpy_qni"
      },
      "source": [
        "The Diversification Ratio of the Inverse Volatility Weighted Portfolio is shown in the output."
      ]
    },
    {
      "cell_type": "code",
      "execution_count": null,
      "metadata": {
        "id": "ZIXlkOGO_dbq"
      },
      "outputs": [],
      "source": [
        "# Inverse volatility weighted portfolio: Diversification Ratio\n",
        "InvVolWeightAssets_Risk= np.sqrt(np.diagonal(covReturns))\n",
        "InvVolWeightPortfolioDivRatio = np.sum(np.multiply(InvVolWeightAssets_Risk,\n",
        "                                                   InvVolWeightAssets_Weights)) / InvVolWeightPortfolio_Risk\n",
        "print(\"\\n Inverse Volatility  Weighted Portfolio:Diversification Ratio %4.2f\"\n",
        "      % InvVolWeightPortfolioDivRatio)"
      ]
    },
    {
      "cell_type": "markdown",
      "metadata": {
        "id": "n0duepen3KoV"
      },
      "source": [
        "### Efficient Frontier\n",
        "**Optimize the portfolio weights:**\n",
        "\n",
        "* Initialize the random weights for each portfolio\n",
        "* Calculate return, volatility for each portfolio\n",
        "\n",
        "\n",
        "The efficient set obtained by the Mean-Variance Optimization model can be graphically represented by what is called an efficient frontier. An efficient frontier is a risk-return tradeoff graph, which describes a set of optimal portfolios that yield the highest expected portfolio return for a defined level of risk or the lowest possible risk for a defined level of expected portfolio return. It graphs the optimal structure of the portfolio which yields the maximum expected return for a given level of risk or vice-versa.\n"
      ]
    },
    {
      "cell_type": "code",
      "execution_count": null,
      "metadata": {
        "id": "IbdB4oK7e_ZS"
      },
      "outputs": [],
      "source": [
        "# Define an empty list for portfolio returns, volatility and asset weights\n",
        "p_ret = []\n",
        "p_vol = []\n",
        "p_weights = []\n",
        "\n",
        "num_assets = Columns\n",
        "print(\"Number of assets: \", num_assets)\n",
        "num_portfolios = 10000\n",
        "print(\"Number of portfolios: \", num_portfolios)"
      ]
    },
    {
      "cell_type": "code",
      "execution_count": null,
      "metadata": {
        "id": "6Djw6GrYj3ye"
      },
      "outputs": [],
      "source": [
        "covReturns[:5,:5].shape"
      ]
    },
    {
      "cell_type": "code",
      "execution_count": null,
      "metadata": {
        "id": "xt7gH6D8fHk5"
      },
      "outputs": [],
      "source": [
        "np.random.seed(1)\n",
        "for portfolio in range(num_portfolios):\n",
        "    weights = np.random.random(num_assets)\n",
        "    # sum of weights must be 1\n",
        "    weights = weights/np.sum(weights)\n",
        "    p_weights.append(weights)\n",
        "    # Returns are the product of individual expected returns of asset and its weights\n",
        "    returns = np.dot(weights, meanReturns)\n",
        "    p_ret.append(returns)\n",
        "    # Portfolio Variance\n",
        "    volat = np.sqrt(np.matmul((np.matmul(weights,covReturns)), np.transpose(weights)))\n",
        "    ann_volat = volat*np.sqrt(251)*100\n",
        "    # var = covReturns.mul(weights, axis=0).mul(weights, axis=1).sum().sum()\n",
        "    # # Daily standard deviation\n",
        "    # sd = np.sqrt(var)\n",
        "    # # Annual standard deviation = volatility\n",
        "    # ann_sd = sd * np.sqrt(250)\n",
        "    p_vol.append(ann_volat)"
      ]
    },
    {
      "cell_type": "code",
      "execution_count": null,
      "metadata": {
        "id": "_yB_YA8zhcYv"
      },
      "outputs": [],
      "source": [
        "df.columns"
      ]
    },
    {
      "cell_type": "code",
      "execution_count": null,
      "metadata": {
        "id": "CXpl-GuhkMsw"
      },
      "outputs": [],
      "source": [
        "df.columns.tolist()[1:6]"
      ]
    },
    {
      "cell_type": "code",
      "execution_count": null,
      "metadata": {
        "id": "cra1Je7lhXj8"
      },
      "outputs": [],
      "source": [
        "data_ = {'Returns':p_ret, 'Volatility':p_vol}\n",
        "\n",
        "for counter, symbol in enumerate(df.columns.tolist()[1:6]):\n",
        "    print(counter, symbol)\n",
        "    data_[symbol + '_weight'] = [w[counter] for w in p_weights]\n",
        "\n",
        "# Create dataframe of the 10000 portfolios\n",
        "portfolios  = pd.DataFrame(data_)"
      ]
    },
    {
      "cell_type": "code",
      "execution_count": null,
      "metadata": {
        "id": "ecrPYrPUh8m3"
      },
      "outputs": [],
      "source": [
        "portfolios.head()"
      ]
    },
    {
      "cell_type": "markdown",
      "metadata": {
        "id": "eDHAkaLlHRCb"
      },
      "source": [
        "#### Visualize Efficient Frontier\n",
        "\n",
        "* Visualize the volatility and returns of 1000 portfolios\n",
        "* Find the minimum variance portfolio and plot the weights of assets"
      ]
    },
    {
      "cell_type": "code",
      "execution_count": null,
      "metadata": {
        "id": "zHbEgjjUiCP_"
      },
      "outputs": [],
      "source": [
        "# Visualize efficient frontier\n",
        "plt.figure(figsize=(8,6))\n",
        "plt.scatter(portfolios['Volatility'], portfolios['Returns'], marker='o', s=10, alpha=0.3)\n",
        "plt.title(\"Efficient Frontier\")\n",
        "plt.xlabel(\"Risk\")\n",
        "plt.ylabel(\"Returns\")\n",
        "plt.grid()\n",
        "plt.show()"
      ]
    },
    {
      "cell_type": "code",
      "execution_count": null,
      "metadata": {
        "id": "HV-LZH2wiIsH"
      },
      "outputs": [],
      "source": [
        "# Minimum variance portfolio\n",
        "min_var_port = portfolios.iloc[np.argmin(portfolios['Volatility'])]\n",
        "min_var_port"
      ]
    },
    {
      "cell_type": "code",
      "execution_count": null,
      "metadata": {
        "id": "GzJv1repiRTH"
      },
      "outputs": [],
      "source": [
        "# Weights for Minimum variance portfolio\n",
        "plt.figure(figsize=(19,7))\n",
        "sns.barplot(x = min_var_port[2:].index, y = min_var_port[2:])\n",
        "plt.ylabel(\"Weights\")\n",
        "plt.show()"
      ]
    },
    {
      "cell_type": "code",
      "execution_count": null,
      "metadata": {
        "id": "XvUd0z91iqT4"
      },
      "outputs": [],
      "source": [
        "# Visualize Efficient frontier\n",
        "plt.subplots(figsize=[8,6])\n",
        "plt.scatter(portfolios['Volatility'], portfolios['Returns'], marker='o', s=10, alpha=0.3)\n",
        "\n",
        "# Visualize Minimum variance portfolio\n",
        "plt.scatter(min_var_port[1], min_var_port[0], color='r', marker='*', s=300)\n",
        "plt.title(\"Efficient Frontier\")\n",
        "plt.xlabel(\"Risk\")\n",
        "plt.ylabel(\"Returns\")\n",
        "plt.grid()\n",
        "plt.show()"
      ]
    },
    {
      "cell_type": "markdown",
      "metadata": {
        "id": "OKioQXy-3Ulg"
      },
      "source": [
        "### Sharpe Ratio\n",
        "\n",
        "* Calculate Sharpe Ratio for the assets\n",
        "\n",
        "Sharpe Ratio, developed by Nobel Laureate William F Sharpe, is a measure of calculating risk adjusted return. It serves to help investors know about the returns on their investments relative to the risks they hold. The Sharpe Ratio is defined as\n",
        "\n",
        "$$Sharpe Ratio = \\frac{R_P - R_f}{\\sigma_p} $$\n",
        "\n",
        "where:\n",
        "\n",
        "$R_p$ = return of portfolio\n",
        "\n",
        "$R_f$ = risk-free rate\n",
        "\n",
        "$\\sigma_p$ = standard deviation of the portfolio’s excess return\n",
        "​\n",
        "\n",
        "**Note:** The risk-free rate of return is the return of an investment with zero risks, meaning it's the return investors could expect for taking no risk.\n",
        "\n",
        "The annual average risk free rate of return in USA during April 2019 was 3%. The daily risk free rate is computed as\n",
        "\n",
        "$$R_f^{Daily} = \\Big(1 + R_f^{Yearly} \\Big)^{\\frac{1}{360}} - 1 $$\n",
        "\n"
      ]
    },
    {
      "cell_type": "code",
      "execution_count": null,
      "metadata": {
        "id": "L0s44a7Ejs3T"
      },
      "outputs": [],
      "source": [
        "# Risk-free return\n",
        "rf = 0.00060\n",
        "# Sharpe ratios for different weight combinations\n",
        "sharpe_ratios = (portfolios['Returns'] - rf)/portfolios['Volatility']\n",
        "\n",
        "# Highest sharpe ratio\n",
        "optimal_idx = np.argmax(sharpe_ratios)\n",
        "print(\"Highest Sharpe ratio: \", sharpe_ratios[optimal_idx])"
      ]
    },
    {
      "cell_type": "code",
      "execution_count": null,
      "metadata": {
        "id": "jy94U4kHjtQc"
      },
      "outputs": [],
      "source": [
        "# Tangent portfolio\n",
        "optimal_risky_port = portfolios.iloc[optimal_idx]\n",
        "optimal_risky_port"
      ]
    },
    {
      "cell_type": "code",
      "execution_count": null,
      "metadata": {
        "id": "CsVbPTJhjxyP"
      },
      "outputs": [],
      "source": [
        "# Weights for Tangency portfolio\n",
        "plt.figure(figsize=(19,7))\n",
        "sns.barplot(x = optimal_risky_port[2:].index, y = optimal_risky_port[2:])\n",
        "plt.ylabel(\"Weights\")\n",
        "plt.show()"
      ]
    },
    {
      "cell_type": "code",
      "execution_count": null,
      "metadata": {
        "id": "i8QQ6NA6j1jb"
      },
      "outputs": [],
      "source": [
        "# Diference b/w tangent portfolio and minimum variance portfolio\n",
        "optimal_risky_port - min_var_port"
      ]
    },
    {
      "cell_type": "markdown",
      "metadata": {
        "id": "kWc8zg8C3k4l"
      },
      "source": [
        "#### Plot the portfolio\n",
        "\n",
        "* Find and plot the optimal portfolio using Sharpe Ratio\n",
        "* Highlight the minimum risk and maximum return of the portfolio"
      ]
    },
    {
      "cell_type": "code",
      "execution_count": null,
      "metadata": {
        "id": "O5ieRc5lj_I-"
      },
      "outputs": [],
      "source": [
        "# Visualize Efficient frontier\n",
        "plt.subplots(figsize=[8,6])\n",
        "plt.scatter(portfolios['Volatility'], portfolios['Returns'], marker='o', s=10, alpha=0.3)\n",
        "\n",
        "# Visualize Minimum variance portfolio\n",
        "plt.scatter(min_var_port[1], min_var_port[0], color='r', marker='*', s=300, label=\"min risk\")\n",
        "\n",
        "# Visualize optimal or tangent portfolio\n",
        "plt.scatter(optimal_risky_port[1], optimal_risky_port[0], color='g', marker='*', s=300,label=\"max return\")\n",
        "plt.title(\"Efficient Frontier\")\n",
        "plt.xlabel(\"Risk\")\n",
        "plt.ylabel(\"Returns\")\n",
        "plt.legend()\n",
        "plt.grid()\n",
        "plt.show()"
      ]
    },
    {
      "cell_type": "markdown",
      "metadata": {
        "id": "wHWhOMDK3ooC"
      },
      "source": [
        "### Report Analysis\n",
        "\n",
        "* Try with a subset of assets and comment on diversification ratio\n",
        "\n",
        "* Comment on the portfolio that consists of assets with highest return (irrespective of risk)\n",
        "\n",
        "* Discuss the optimized portfolio and weights of the assets\n",
        "\n",
        "* Based on K-Means clusters, find the subset of assets which is exhibiting greater sharpe ratio\n"
      ]
    }
  ],
  "metadata": {
    "anaconda-cloud": {},
    "colab": {
      "provenance": [],
      "toc_visible": true
    },
    "coursera": {
      "course_slug": "machine-learning-in-finance"
    },
    "kernelspec": {
      "display_name": "Python 3",
      "language": "python",
      "name": "python3"
    },
    "language_info": {
      "codemirror_mode": {
        "name": "ipython",
        "version": 3
      },
      "file_extension": ".py",
      "mimetype": "text/x-python",
      "name": "python",
      "nbconvert_exporter": "python",
      "pygments_lexer": "ipython3",
      "version": "3.6.0"
    }
  },
  "nbformat": 4,
  "nbformat_minor": 0
}
